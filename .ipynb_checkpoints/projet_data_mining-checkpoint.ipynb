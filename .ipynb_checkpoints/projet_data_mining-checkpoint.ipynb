{
 "cells": [
  {
   "cell_type": "code",
   "execution_count": 1,
   "id": "e3dd9d04",
   "metadata": {},
   "outputs": [],
   "source": [
    "import pandas as pd\n",
    "import numpy as np\n",
    "import matplotlib.pyplot as plt"
   ]
  },
  {
   "cell_type": "code",
   "execution_count": 2,
   "id": "8a84656b",
   "metadata": {},
   "outputs": [
    {
     "data": {
      "text/html": [
       "<div>\n",
       "<style scoped>\n",
       "    .dataframe tbody tr th:only-of-type {\n",
       "        vertical-align: middle;\n",
       "    }\n",
       "\n",
       "    .dataframe tbody tr th {\n",
       "        vertical-align: top;\n",
       "    }\n",
       "\n",
       "    .dataframe thead th {\n",
       "        text-align: right;\n",
       "    }\n",
       "</style>\n",
       "<table border=\"1\" class=\"dataframe\">\n",
       "  <thead>\n",
       "    <tr style=\"text-align: right;\">\n",
       "      <th></th>\n",
       "      <th>Fromages</th>\n",
       "      <th>calories</th>\n",
       "      <th>sodium</th>\n",
       "      <th>calcium</th>\n",
       "      <th>lipides</th>\n",
       "      <th>retinol</th>\n",
       "      <th>folates</th>\n",
       "      <th>proteines</th>\n",
       "      <th>cholesterol</th>\n",
       "      <th>magnesium</th>\n",
       "      <th>Unnamed: 10</th>\n",
       "    </tr>\n",
       "  </thead>\n",
       "  <tbody>\n",
       "    <tr>\n",
       "      <th>0</th>\n",
       "      <td>CarredelEst</td>\n",
       "      <td>314</td>\n",
       "      <td>353.5</td>\n",
       "      <td>72.6</td>\n",
       "      <td>26.3</td>\n",
       "      <td>51.6</td>\n",
       "      <td>30.3</td>\n",
       "      <td>21.0</td>\n",
       "      <td>70</td>\n",
       "      <td>20</td>\n",
       "      <td>NaN</td>\n",
       "    </tr>\n",
       "    <tr>\n",
       "      <th>1</th>\n",
       "      <td>Babybel</td>\n",
       "      <td>314</td>\n",
       "      <td>238.0</td>\n",
       "      <td>209.8</td>\n",
       "      <td>25.1</td>\n",
       "      <td>63.7</td>\n",
       "      <td>6.4</td>\n",
       "      <td>22.6</td>\n",
       "      <td>70</td>\n",
       "      <td>27</td>\n",
       "      <td>NaN</td>\n",
       "    </tr>\n",
       "    <tr>\n",
       "      <th>2</th>\n",
       "      <td>Beaufort</td>\n",
       "      <td>401</td>\n",
       "      <td>112.0</td>\n",
       "      <td>259.4</td>\n",
       "      <td>33.3</td>\n",
       "      <td>54.9</td>\n",
       "      <td>1.2</td>\n",
       "      <td>26.6</td>\n",
       "      <td>120</td>\n",
       "      <td>41</td>\n",
       "      <td>NaN</td>\n",
       "    </tr>\n",
       "    <tr>\n",
       "      <th>3</th>\n",
       "      <td>Bleu</td>\n",
       "      <td>342</td>\n",
       "      <td>336.0</td>\n",
       "      <td>211.1</td>\n",
       "      <td>28.9</td>\n",
       "      <td>37.1</td>\n",
       "      <td>27.5</td>\n",
       "      <td>20.2</td>\n",
       "      <td>90</td>\n",
       "      <td>27</td>\n",
       "      <td>NaN</td>\n",
       "    </tr>\n",
       "    <tr>\n",
       "      <th>4</th>\n",
       "      <td>Camembert</td>\n",
       "      <td>264</td>\n",
       "      <td>314.0</td>\n",
       "      <td>215.9</td>\n",
       "      <td>19.5</td>\n",
       "      <td>103.0</td>\n",
       "      <td>36.4</td>\n",
       "      <td>23.4</td>\n",
       "      <td>60</td>\n",
       "      <td>20</td>\n",
       "      <td>NaN</td>\n",
       "    </tr>\n",
       "  </tbody>\n",
       "</table>\n",
       "</div>"
      ],
      "text/plain": [
       "      Fromages  calories  sodium  calcium  lipides  retinol  folates  \\\n",
       "0  CarredelEst       314   353.5     72.6     26.3     51.6     30.3   \n",
       "1      Babybel       314   238.0    209.8     25.1     63.7      6.4   \n",
       "2     Beaufort       401   112.0    259.4     33.3     54.9      1.2   \n",
       "3         Bleu       342   336.0    211.1     28.9     37.1     27.5   \n",
       "4    Camembert       264   314.0    215.9     19.5    103.0     36.4   \n",
       "\n",
       "   proteines  cholesterol  magnesium  Unnamed: 10  \n",
       "0       21.0           70         20          NaN  \n",
       "1       22.6           70         27          NaN  \n",
       "2       26.6          120         41          NaN  \n",
       "3       20.2           90         27          NaN  \n",
       "4       23.4           60         20          NaN  "
      ]
     },
     "execution_count": 2,
     "metadata": {},
     "output_type": "execute_result"
    }
   ],
   "source": [
    "df = pd.read_csv('fromage.csv',delimiter=\";\")\n",
    "df.head()"
   ]
  },
  {
   "cell_type": "code",
   "execution_count": 3,
   "id": "cd1c567b",
   "metadata": {},
   "outputs": [],
   "source": [
    "df = df.drop(columns='Unnamed: 10')\n"
   ]
  },
  {
   "cell_type": "code",
   "execution_count": 4,
   "id": "3cd7b016",
   "metadata": {},
   "outputs": [
    {
     "data": {
      "text/html": [
       "<div>\n",
       "<style scoped>\n",
       "    .dataframe tbody tr th:only-of-type {\n",
       "        vertical-align: middle;\n",
       "    }\n",
       "\n",
       "    .dataframe tbody tr th {\n",
       "        vertical-align: top;\n",
       "    }\n",
       "\n",
       "    .dataframe thead th {\n",
       "        text-align: right;\n",
       "    }\n",
       "</style>\n",
       "<table border=\"1\" class=\"dataframe\">\n",
       "  <thead>\n",
       "    <tr style=\"text-align: right;\">\n",
       "      <th></th>\n",
       "      <th>Fromages</th>\n",
       "      <th>calories</th>\n",
       "      <th>sodium</th>\n",
       "      <th>calcium</th>\n",
       "      <th>lipides</th>\n",
       "      <th>retinol</th>\n",
       "      <th>folates</th>\n",
       "      <th>proteines</th>\n",
       "      <th>cholesterol</th>\n",
       "      <th>magnesium</th>\n",
       "    </tr>\n",
       "  </thead>\n",
       "  <tbody>\n",
       "    <tr>\n",
       "      <th>0</th>\n",
       "      <td>CarredelEst</td>\n",
       "      <td>314</td>\n",
       "      <td>353.5</td>\n",
       "      <td>72.6</td>\n",
       "      <td>26.3</td>\n",
       "      <td>51.6</td>\n",
       "      <td>30.3</td>\n",
       "      <td>21.0</td>\n",
       "      <td>70</td>\n",
       "      <td>20</td>\n",
       "    </tr>\n",
       "    <tr>\n",
       "      <th>1</th>\n",
       "      <td>Babybel</td>\n",
       "      <td>314</td>\n",
       "      <td>238.0</td>\n",
       "      <td>209.8</td>\n",
       "      <td>25.1</td>\n",
       "      <td>63.7</td>\n",
       "      <td>6.4</td>\n",
       "      <td>22.6</td>\n",
       "      <td>70</td>\n",
       "      <td>27</td>\n",
       "    </tr>\n",
       "    <tr>\n",
       "      <th>2</th>\n",
       "      <td>Beaufort</td>\n",
       "      <td>401</td>\n",
       "      <td>112.0</td>\n",
       "      <td>259.4</td>\n",
       "      <td>33.3</td>\n",
       "      <td>54.9</td>\n",
       "      <td>1.2</td>\n",
       "      <td>26.6</td>\n",
       "      <td>120</td>\n",
       "      <td>41</td>\n",
       "    </tr>\n",
       "    <tr>\n",
       "      <th>3</th>\n",
       "      <td>Bleu</td>\n",
       "      <td>342</td>\n",
       "      <td>336.0</td>\n",
       "      <td>211.1</td>\n",
       "      <td>28.9</td>\n",
       "      <td>37.1</td>\n",
       "      <td>27.5</td>\n",
       "      <td>20.2</td>\n",
       "      <td>90</td>\n",
       "      <td>27</td>\n",
       "    </tr>\n",
       "    <tr>\n",
       "      <th>4</th>\n",
       "      <td>Camembert</td>\n",
       "      <td>264</td>\n",
       "      <td>314.0</td>\n",
       "      <td>215.9</td>\n",
       "      <td>19.5</td>\n",
       "      <td>103.0</td>\n",
       "      <td>36.4</td>\n",
       "      <td>23.4</td>\n",
       "      <td>60</td>\n",
       "      <td>20</td>\n",
       "    </tr>\n",
       "  </tbody>\n",
       "</table>\n",
       "</div>"
      ],
      "text/plain": [
       "      Fromages  calories  sodium  calcium  lipides  retinol  folates  \\\n",
       "0  CarredelEst       314   353.5     72.6     26.3     51.6     30.3   \n",
       "1      Babybel       314   238.0    209.8     25.1     63.7      6.4   \n",
       "2     Beaufort       401   112.0    259.4     33.3     54.9      1.2   \n",
       "3         Bleu       342   336.0    211.1     28.9     37.1     27.5   \n",
       "4    Camembert       264   314.0    215.9     19.5    103.0     36.4   \n",
       "\n",
       "   proteines  cholesterol  magnesium  \n",
       "0       21.0           70         20  \n",
       "1       22.6           70         27  \n",
       "2       26.6          120         41  \n",
       "3       20.2           90         27  \n",
       "4       23.4           60         20  "
      ]
     },
     "execution_count": 4,
     "metadata": {},
     "output_type": "execute_result"
    }
   ],
   "source": [
    "df.head()"
   ]
  },
  {
   "cell_type": "code",
   "execution_count": 5,
   "id": "7d522b37",
   "metadata": {},
   "outputs": [
    {
     "data": {
      "text/plain": [
       "(29, 10)"
      ]
     },
     "execution_count": 5,
     "metadata": {},
     "output_type": "execute_result"
    }
   ],
   "source": [
    "df.shape"
   ]
  },
  {
   "cell_type": "code",
   "execution_count": 6,
   "id": "4909fff1",
   "metadata": {},
   "outputs": [
    {
     "data": {
      "text/html": [
       "<div>\n",
       "<style scoped>\n",
       "    .dataframe tbody tr th:only-of-type {\n",
       "        vertical-align: middle;\n",
       "    }\n",
       "\n",
       "    .dataframe tbody tr th {\n",
       "        vertical-align: top;\n",
       "    }\n",
       "\n",
       "    .dataframe thead th {\n",
       "        text-align: right;\n",
       "    }\n",
       "</style>\n",
       "<table border=\"1\" class=\"dataframe\">\n",
       "  <thead>\n",
       "    <tr style=\"text-align: right;\">\n",
       "      <th></th>\n",
       "      <th>calories</th>\n",
       "      <th>sodium</th>\n",
       "      <th>calcium</th>\n",
       "      <th>lipides</th>\n",
       "      <th>retinol</th>\n",
       "      <th>folates</th>\n",
       "      <th>proteines</th>\n",
       "      <th>cholesterol</th>\n",
       "      <th>magnesium</th>\n",
       "    </tr>\n",
       "  </thead>\n",
       "  <tbody>\n",
       "    <tr>\n",
       "      <th>count</th>\n",
       "      <td>29.000000</td>\n",
       "      <td>29.000000</td>\n",
       "      <td>29.000000</td>\n",
       "      <td>29.000000</td>\n",
       "      <td>29.000000</td>\n",
       "      <td>29.000000</td>\n",
       "      <td>29.000000</td>\n",
       "      <td>29.000000</td>\n",
       "      <td>29.000000</td>\n",
       "    </tr>\n",
       "    <tr>\n",
       "      <th>mean</th>\n",
       "      <td>300.034483</td>\n",
       "      <td>210.086207</td>\n",
       "      <td>185.734483</td>\n",
       "      <td>24.158621</td>\n",
       "      <td>67.562069</td>\n",
       "      <td>13.010345</td>\n",
       "      <td>20.168966</td>\n",
       "      <td>74.586207</td>\n",
       "      <td>26.965517</td>\n",
       "    </tr>\n",
       "    <tr>\n",
       "      <th>std</th>\n",
       "      <td>91.914356</td>\n",
       "      <td>108.678923</td>\n",
       "      <td>72.528882</td>\n",
       "      <td>8.129642</td>\n",
       "      <td>24.163098</td>\n",
       "      <td>11.723339</td>\n",
       "      <td>6.959788</td>\n",
       "      <td>28.245755</td>\n",
       "      <td>11.318388</td>\n",
       "    </tr>\n",
       "    <tr>\n",
       "      <th>min</th>\n",
       "      <td>70.000000</td>\n",
       "      <td>22.000000</td>\n",
       "      <td>72.600000</td>\n",
       "      <td>3.400000</td>\n",
       "      <td>37.100000</td>\n",
       "      <td>1.200000</td>\n",
       "      <td>4.100000</td>\n",
       "      <td>10.000000</td>\n",
       "      <td>10.000000</td>\n",
       "    </tr>\n",
       "    <tr>\n",
       "      <th>25%</th>\n",
       "      <td>292.000000</td>\n",
       "      <td>140.000000</td>\n",
       "      <td>132.900000</td>\n",
       "      <td>23.400000</td>\n",
       "      <td>51.600000</td>\n",
       "      <td>4.900000</td>\n",
       "      <td>17.800000</td>\n",
       "      <td>70.000000</td>\n",
       "      <td>20.000000</td>\n",
       "    </tr>\n",
       "    <tr>\n",
       "      <th>50%</th>\n",
       "      <td>321.000000</td>\n",
       "      <td>223.000000</td>\n",
       "      <td>202.300000</td>\n",
       "      <td>26.300000</td>\n",
       "      <td>62.300000</td>\n",
       "      <td>6.400000</td>\n",
       "      <td>21.000000</td>\n",
       "      <td>80.000000</td>\n",
       "      <td>26.000000</td>\n",
       "    </tr>\n",
       "    <tr>\n",
       "      <th>75%</th>\n",
       "      <td>355.000000</td>\n",
       "      <td>276.000000</td>\n",
       "      <td>220.500000</td>\n",
       "      <td>29.100000</td>\n",
       "      <td>76.400000</td>\n",
       "      <td>21.100000</td>\n",
       "      <td>23.400000</td>\n",
       "      <td>90.000000</td>\n",
       "      <td>30.000000</td>\n",
       "    </tr>\n",
       "    <tr>\n",
       "      <th>max</th>\n",
       "      <td>406.000000</td>\n",
       "      <td>432.000000</td>\n",
       "      <td>334.600000</td>\n",
       "      <td>33.300000</td>\n",
       "      <td>150.500000</td>\n",
       "      <td>36.400000</td>\n",
       "      <td>35.700000</td>\n",
       "      <td>120.000000</td>\n",
       "      <td>51.000000</td>\n",
       "    </tr>\n",
       "  </tbody>\n",
       "</table>\n",
       "</div>"
      ],
      "text/plain": [
       "         calories      sodium     calcium    lipides     retinol    folates  \\\n",
       "count   29.000000   29.000000   29.000000  29.000000   29.000000  29.000000   \n",
       "mean   300.034483  210.086207  185.734483  24.158621   67.562069  13.010345   \n",
       "std     91.914356  108.678923   72.528882   8.129642   24.163098  11.723339   \n",
       "min     70.000000   22.000000   72.600000   3.400000   37.100000   1.200000   \n",
       "25%    292.000000  140.000000  132.900000  23.400000   51.600000   4.900000   \n",
       "50%    321.000000  223.000000  202.300000  26.300000   62.300000   6.400000   \n",
       "75%    355.000000  276.000000  220.500000  29.100000   76.400000  21.100000   \n",
       "max    406.000000  432.000000  334.600000  33.300000  150.500000  36.400000   \n",
       "\n",
       "       proteines  cholesterol  magnesium  \n",
       "count  29.000000    29.000000  29.000000  \n",
       "mean   20.168966    74.586207  26.965517  \n",
       "std     6.959788    28.245755  11.318388  \n",
       "min     4.100000    10.000000  10.000000  \n",
       "25%    17.800000    70.000000  20.000000  \n",
       "50%    21.000000    80.000000  26.000000  \n",
       "75%    23.400000    90.000000  30.000000  \n",
       "max    35.700000   120.000000  51.000000  "
      ]
     },
     "execution_count": 6,
     "metadata": {},
     "output_type": "execute_result"
    }
   ],
   "source": [
    "df.describe()"
   ]
  },
  {
   "cell_type": "code",
   "execution_count": 7,
   "id": "414ef6b8",
   "metadata": {
    "scrolled": true
   },
   "outputs": [
    {
     "data": {
      "text/plain": [
       "Fromages       0\n",
       "calories       0\n",
       "sodium         0\n",
       "calcium        0\n",
       "lipides        0\n",
       "retinol        0\n",
       "folates        0\n",
       "proteines      0\n",
       "cholesterol    0\n",
       "magnesium      0\n",
       "dtype: int64"
      ]
     },
     "execution_count": 7,
     "metadata": {},
     "output_type": "execute_result"
    }
   ],
   "source": [
    "df.isnull().sum()"
   ]
  },
  {
   "cell_type": "code",
   "execution_count": 8,
   "id": "f8cdcc9c",
   "metadata": {},
   "outputs": [],
   "source": [
    "import seaborn as sns"
   ]
  },
  {
   "cell_type": "code",
   "execution_count": 9,
   "id": "60ef390d",
   "metadata": {},
   "outputs": [],
   "source": [
    "import warnings\n",
    "warnings.filterwarnings('ignore')"
   ]
  },
  {
   "cell_type": "code",
   "execution_count": 10,
   "id": "4f3b0502",
   "metadata": {},
   "outputs": [
    {
     "data": {
      "image/png": "[encoded data removed]",
      "text/plain": [
       "<Figure size 720x720 with 9 Axes>"
      ]
     },
     "metadata": {
      "needs_background": "light"
     },
     "output_type": "display_data"
    }
   ],
   "source": [
    "fig, axs = plt.subplots(nrows=3, ncols=3, figsize=(10, 10))\n",
    "\n",
    "sns.distplot(df['calories'], ax = axs[0,0])   \n",
    "sns.distplot(df['sodium'], ax = axs[0,1])    \n",
    "sns.distplot(df['calcium'], ax = axs[0,2])    \n",
    "sns.distplot(df['lipides'], ax = axs[1,0])    \n",
    "sns.distplot(df['retinol'], ax = axs[1,1])    \n",
    "sns.distplot(df['folates'], ax = axs[1,2])    \n",
    "sns.distplot(df['proteines'], ax = axs[2,0])    \n",
    "sns.distplot(df['cholesterol'], ax = axs[2,1])    \n",
    "sns.distplot(df['magnesium'], ax = axs[2,2])    \n",
    "\n",
    "\n",
    "# Adjust the layout of the subplots\n",
    "plt.tight_layout()\n",
    "\n",
    "# Show the plot\n",
    "plt.show()"
   ]
  },
  {
   "cell_type": "code",
   "execution_count": 11,
   "id": "f81226b6",
   "metadata": {},
   "outputs": [
    {
     "data": {
      "image/png": "[encoded data removed]",
      "text/plain": [
       "<Figure size 720x504 with 2 Axes>"
      ]
     },
     "metadata": {
      "needs_background": "light"
     },
     "output_type": "display_data"
    }
   ],
   "source": [
    "plt.figure(figsize=(10,7))\n",
    "sns.heatmap(df.corr(method='pearson'),annot=True)\n",
    "plt.show()"
   ]
  },
  {
   "cell_type": "code",
   "execution_count": 12,
   "id": "13d8c347",
   "metadata": {},
   "outputs": [],
   "source": [
    "from sklearn.cluster import KMeans\n"
   ]
  },
  {
   "cell_type": "code",
   "execution_count": 13,
   "id": "31856047",
   "metadata": {},
   "outputs": [
    {
     "data": {
      "text/html": [
       "<div>\n",
       "<style scoped>\n",
       "    .dataframe tbody tr th:only-of-type {\n",
       "        vertical-align: middle;\n",
       "    }\n",
       "\n",
       "    .dataframe tbody tr th {\n",
       "        vertical-align: top;\n",
       "    }\n",
       "\n",
       "    .dataframe thead th {\n",
       "        text-align: right;\n",
       "    }\n",
       "</style>\n",
       "<table border=\"1\" class=\"dataframe\">\n",
       "  <thead>\n",
       "    <tr style=\"text-align: right;\">\n",
       "      <th></th>\n",
       "      <th>calories</th>\n",
       "      <th>sodium</th>\n",
       "      <th>calcium</th>\n",
       "      <th>lipides</th>\n",
       "      <th>retinol</th>\n",
       "      <th>folates</th>\n",
       "      <th>proteines</th>\n",
       "      <th>cholesterol</th>\n",
       "      <th>magnesium</th>\n",
       "    </tr>\n",
       "  </thead>\n",
       "  <tbody>\n",
       "    <tr>\n",
       "      <th>0</th>\n",
       "      <td>314</td>\n",
       "      <td>353.5</td>\n",
       "      <td>72.6</td>\n",
       "      <td>26.3</td>\n",
       "      <td>51.6</td>\n",
       "      <td>30.3</td>\n",
       "      <td>21.0</td>\n",
       "      <td>70</td>\n",
       "      <td>20</td>\n",
       "    </tr>\n",
       "    <tr>\n",
       "      <th>1</th>\n",
       "      <td>314</td>\n",
       "      <td>238.0</td>\n",
       "      <td>209.8</td>\n",
       "      <td>25.1</td>\n",
       "      <td>63.7</td>\n",
       "      <td>6.4</td>\n",
       "      <td>22.6</td>\n",
       "      <td>70</td>\n",
       "      <td>27</td>\n",
       "    </tr>\n",
       "    <tr>\n",
       "      <th>2</th>\n",
       "      <td>401</td>\n",
       "      <td>112.0</td>\n",
       "      <td>259.4</td>\n",
       "      <td>33.3</td>\n",
       "      <td>54.9</td>\n",
       "      <td>1.2</td>\n",
       "      <td>26.6</td>\n",
       "      <td>120</td>\n",
       "      <td>41</td>\n",
       "    </tr>\n",
       "    <tr>\n",
       "      <th>3</th>\n",
       "      <td>342</td>\n",
       "      <td>336.0</td>\n",
       "      <td>211.1</td>\n",
       "      <td>28.9</td>\n",
       "      <td>37.1</td>\n",
       "      <td>27.5</td>\n",
       "      <td>20.2</td>\n",
       "      <td>90</td>\n",
       "      <td>27</td>\n",
       "    </tr>\n",
       "    <tr>\n",
       "      <th>4</th>\n",
       "      <td>264</td>\n",
       "      <td>314.0</td>\n",
       "      <td>215.9</td>\n",
       "      <td>19.5</td>\n",
       "      <td>103.0</td>\n",
       "      <td>36.4</td>\n",
       "      <td>23.4</td>\n",
       "      <td>60</td>\n",
       "      <td>20</td>\n",
       "    </tr>\n",
       "  </tbody>\n",
       "</table>\n",
       "</div>"
      ],
      "text/plain": [
       "   calories  sodium  calcium  lipides  retinol  folates  proteines  \\\n",
       "0       314   353.5     72.6     26.3     51.6     30.3       21.0   \n",
       "1       314   238.0    209.8     25.1     63.7      6.4       22.6   \n",
       "2       401   112.0    259.4     33.3     54.9      1.2       26.6   \n",
       "3       342   336.0    211.1     28.9     37.1     27.5       20.2   \n",
       "4       264   314.0    215.9     19.5    103.0     36.4       23.4   \n",
       "\n",
       "   cholesterol  magnesium  \n",
       "0           70         20  \n",
       "1           70         27  \n",
       "2          120         41  \n",
       "3           90         27  \n",
       "4           60         20  "
      ]
     },
     "execution_count": 13,
     "metadata": {},
     "output_type": "execute_result"
    }
   ],
   "source": [
    "X = df.drop(columns='Fromages')\n",
    "X.head()"
   ]
  },
  {
   "cell_type": "markdown",
   "id": "378e6205",
   "metadata": {},
   "source": [
    "### KMeans"
   ]
  },
  {
   "cell_type": "code",
   "execution_count": 14,
   "id": "e2c63299",
   "metadata": {},
   "outputs": [
    {
     "data": {
      "text/html": [
       "<style>#sk-container-id-1 {color: black;background-color: white;}#sk-container-id-1 pre{padding: 0;}#sk-container-id-1 div.sk-toggleable {background-color: white;}#sk-container-id-1 label.sk-toggleable__label {cursor: pointer;display: block;width: 100%;margin-bottom: 0;padding: 0.3em;box-sizing: border-box;text-align: center;}#sk-container-id-1 label.sk-toggleable__label-arrow:before {content: \"▸\";float: left;margin-right: 0.25em;color: #696969;}#sk-container-id-1 label.sk-toggleable__label-arrow:hover:before {color: black;}#sk-container-id-1 div.sk-estimator:hover label.sk-toggleable__label-arrow:before {color: black;}#sk-container-id-1 div.sk-toggleable__content {max-height: 0;max-width: 0;overflow: hidden;text-align: left;background-color: #f0f8ff;}#sk-container-id-1 div.sk-toggleable__content pre {margin: 0.2em;color: black;border-radius: 0.25em;background-color: #f0f8ff;}#sk-container-id-1 input.sk-toggleable__control:checked~div.sk-toggleable__content {max-height: 200px;max-width: 100%;overflow: auto;}#sk-container-id-1 input.sk-toggleable__control:checked~label.sk-toggleable__label-arrow:before {content: \"▾\";}#sk-container-id-1 div.sk-estimator input.sk-toggleable__control:checked~label.sk-toggleable__label {background-color: #d4ebff;}#sk-container-id-1 div.sk-label input.sk-toggleable__control:checked~label.sk-toggleable__label {background-color: #d4ebff;}#sk-container-id-1 input.sk-hidden--visually {border: 0;clip: rect(1px 1px 1px 1px);clip: rect(1px, 1px, 1px, 1px);height: 1px;margin: -1px;overflow: hidden;padding: 0;position: absolute;width: 1px;}#sk-container-id-1 div.sk-estimator {font-family: monospace;background-color: #f0f8ff;border: 1px dotted black;border-radius: 0.25em;box-sizing: border-box;margin-bottom: 0.5em;}#sk-container-id-1 div.sk-estimator:hover {background-color: #d4ebff;}#sk-container-id-1 div.sk-parallel-item::after {content: \"\";width: 100%;border-bottom: 1px solid gray;flex-grow: 1;}#sk-container-id-1 div.sk-label:hover label.sk-toggleable__label {background-color: #d4ebff;}#sk-container-id-1 div.sk-serial::before {content: \"\";position: absolute;border-left: 1px solid gray;box-sizing: border-box;top: 0;bottom: 0;left: 50%;z-index: 0;}#sk-container-id-1 div.sk-serial {display: flex;flex-direction: column;align-items: center;background-color: white;padding-right: 0.2em;padding-left: 0.2em;position: relative;}#sk-container-id-1 div.sk-item {position: relative;z-index: 1;}#sk-container-id-1 div.sk-parallel {display: flex;align-items: stretch;justify-content: center;background-color: white;position: relative;}#sk-container-id-1 div.sk-item::before, #sk-container-id-1 div.sk-parallel-item::before {content: \"\";position: absolute;border-left: 1px solid gray;box-sizing: border-box;top: 0;bottom: 0;left: 50%;z-index: -1;}#sk-container-id-1 div.sk-parallel-item {display: flex;flex-direction: column;z-index: 1;position: relative;background-color: white;}#sk-container-id-1 div.sk-parallel-item:first-child::after {align-self: flex-end;width: 50%;}#sk-container-id-1 div.sk-parallel-item:last-child::after {align-self: flex-start;width: 50%;}#sk-container-id-1 div.sk-parallel-item:only-child::after {width: 0;}#sk-container-id-1 div.sk-dashed-wrapped {border: 1px dashed gray;margin: 0 0.4em 0.5em 0.4em;box-sizing: border-box;padding-bottom: 0.4em;background-color: white;}#sk-container-id-1 div.sk-label label {font-family: monospace;font-weight: bold;display: inline-block;line-height: 1.2em;}#sk-container-id-1 div.sk-label-container {text-align: center;}#sk-container-id-1 div.sk-container {/* jupyter's `normalize.less` sets `[hidden] { display: none; }` but bootstrap.min.css set `[hidden] { display: none !important; }` so we also need the `!important` here to be able to override the default hidden behavior on the sphinx rendered scikit-learn.org. See: https://github.com/scikit-learn/scikit-learn/issues/21755 */display: inline-block !important;position: relative;}#sk-container-id-1 div.sk-text-repr-fallback {display: none;}</style><div id=\"sk-container-id-1\" class=\"sk-top-container\"><div class=\"sk-text-repr-fallback\"><pre>KMeans(n_clusters=3)</pre><b>In a Jupyter environment, please rerun this cell to show the HTML representation or trust the notebook. <br />On GitHub, the HTML representation is unable to render, please try loading this page with nbviewer.org.</b></div><div class=\"sk-container\" hidden><div class=\"sk-item\"><div class=\"sk-estimator sk-toggleable\"><input class=\"sk-toggleable__control sk-hidden--visually\" id=\"sk-estimator-id-1\" type=\"checkbox\" checked><label for=\"sk-estimator-id-1\" class=\"sk-toggleable__label sk-toggleable__label-arrow\">KMeans</label><div class=\"sk-toggleable__content\"><pre>KMeans(n_clusters=3)</pre></div></div></div></div></div>"
      ],
      "text/plain": [
       "KMeans(n_clusters=3)"
      ]
     },
     "execution_count": 14,
     "metadata": {},
     "output_type": "execute_result"
    }
   ],
   "source": [
    "kmeans = KMeans(n_clusters=3)\n",
    "kmeans.fit(X)"
   ]
  },
  {
   "cell_type": "code",
   "execution_count": 15,
   "id": "1d074313",
   "metadata": {},
   "outputs": [
    {
     "data": {
      "text/plain": [
       "array([1, 1, 2, 1, 1, 2, 1, 1, 2, 2, 1, 2, 2, 0, 1, 0, 0, 1, 1, 2, 0, 1,\n",
       "       1, 1, 1, 2, 1, 2, 0])"
      ]
     },
     "execution_count": 15,
     "metadata": {},
     "output_type": "execute_result"
    }
   ],
   "source": [
    "labels = kmeans.labels_\n",
    "labels"
   ]
  },
  {
   "cell_type": "code",
   "execution_count": 16,
   "id": "e38f5bae",
   "metadata": {},
   "outputs": [
    {
     "data": {
      "text/plain": [
       "29"
      ]
     },
     "execution_count": 16,
     "metadata": {},
     "output_type": "execute_result"
    }
   ],
   "source": [
    "len(labels)"
   ]
  },
  {
   "cell_type": "code",
   "execution_count": 17,
   "id": "ef584dc3",
   "metadata": {},
   "outputs": [
    {
     "data": {
      "text/plain": [
       "array([[122.6       ,  67.8       , 121.56      ,   8.72      ,\n",
       "         74.22      ,  19.38      ,   7.98      ,  24.6       ,\n",
       "         12.2       ],\n",
       "       [320.66666667, 288.56666667, 163.88666667,  26.38666667,\n",
       "         68.70666667,  16.25333333,  20.63333333,  78.66666667,\n",
       "         25.33333333],\n",
       "       [364.22222222, 158.33333333, 257.8       ,  29.02222222,\n",
       "         61.95555556,   4.06666667,  26.16666667,  95.55555556,\n",
       "         37.88888889]])"
      ]
     },
     "execution_count": 17,
     "metadata": {},
     "output_type": "execute_result"
    }
   ],
   "source": [
    "centers = kmeans.cluster_centers_\n",
    "centers"
   ]
  },
  {
   "cell_type": "code",
   "execution_count": 18,
   "id": "1a4733cf",
   "metadata": {},
   "outputs": [
    {
     "data": {
      "text/html": [
       "<div>\n",
       "<style scoped>\n",
       "    .dataframe tbody tr th:only-of-type {\n",
       "        vertical-align: middle;\n",
       "    }\n",
       "\n",
       "    .dataframe tbody tr th {\n",
       "        vertical-align: top;\n",
       "    }\n",
       "\n",
       "    .dataframe thead th {\n",
       "        text-align: right;\n",
       "    }\n",
       "</style>\n",
       "<table border=\"1\" class=\"dataframe\">\n",
       "  <thead>\n",
       "    <tr style=\"text-align: right;\">\n",
       "      <th></th>\n",
       "      <th>Fromages</th>\n",
       "      <th>calories</th>\n",
       "      <th>sodium</th>\n",
       "      <th>calcium</th>\n",
       "      <th>lipides</th>\n",
       "      <th>retinol</th>\n",
       "      <th>folates</th>\n",
       "      <th>proteines</th>\n",
       "      <th>cholesterol</th>\n",
       "      <th>magnesium</th>\n",
       "    </tr>\n",
       "  </thead>\n",
       "  <tbody>\n",
       "    <tr>\n",
       "      <th>13</th>\n",
       "      <td>Fr,chevrepatemolle</td>\n",
       "      <td>206</td>\n",
       "      <td>160.0</td>\n",
       "      <td>72.8</td>\n",
       "      <td>18.5</td>\n",
       "      <td>150.5</td>\n",
       "      <td>31.0</td>\n",
       "      <td>11.1</td>\n",
       "      <td>50</td>\n",
       "      <td>16</td>\n",
       "    </tr>\n",
       "    <tr>\n",
       "      <th>15</th>\n",
       "      <td>Fr,frais20nat,</td>\n",
       "      <td>80</td>\n",
       "      <td>41.0</td>\n",
       "      <td>146.3</td>\n",
       "      <td>3.5</td>\n",
       "      <td>50.0</td>\n",
       "      <td>20.0</td>\n",
       "      <td>8.3</td>\n",
       "      <td>10</td>\n",
       "      <td>11</td>\n",
       "    </tr>\n",
       "    <tr>\n",
       "      <th>16</th>\n",
       "      <td>Fr,frais40nat,</td>\n",
       "      <td>115</td>\n",
       "      <td>25.0</td>\n",
       "      <td>94.8</td>\n",
       "      <td>7.8</td>\n",
       "      <td>64.3</td>\n",
       "      <td>22.6</td>\n",
       "      <td>7.0</td>\n",
       "      <td>30</td>\n",
       "      <td>10</td>\n",
       "    </tr>\n",
       "    <tr>\n",
       "      <th>20</th>\n",
       "      <td>Petitsuisse40</td>\n",
       "      <td>142</td>\n",
       "      <td>22.0</td>\n",
       "      <td>78.2</td>\n",
       "      <td>10.4</td>\n",
       "      <td>63.4</td>\n",
       "      <td>20.4</td>\n",
       "      <td>9.4</td>\n",
       "      <td>20</td>\n",
       "      <td>10</td>\n",
       "    </tr>\n",
       "    <tr>\n",
       "      <th>28</th>\n",
       "      <td>Yaourtlaitent,nat,</td>\n",
       "      <td>70</td>\n",
       "      <td>91.0</td>\n",
       "      <td>215.7</td>\n",
       "      <td>3.4</td>\n",
       "      <td>42.9</td>\n",
       "      <td>2.9</td>\n",
       "      <td>4.1</td>\n",
       "      <td>13</td>\n",
       "      <td>14</td>\n",
       "    </tr>\n",
       "  </tbody>\n",
       "</table>\n",
       "</div>"
      ],
      "text/plain": [
       "              Fromages  calories  sodium  calcium  lipides  retinol  folates  \\\n",
       "13  Fr,chevrepatemolle       206   160.0     72.8     18.5    150.5     31.0   \n",
       "15      Fr,frais20nat,        80    41.0    146.3      3.5     50.0     20.0   \n",
       "16      Fr,frais40nat,       115    25.0     94.8      7.8     64.3     22.6   \n",
       "20       Petitsuisse40       142    22.0     78.2     10.4     63.4     20.4   \n",
       "28  Yaourtlaitent,nat,        70    91.0    215.7      3.4     42.9      2.9   \n",
       "\n",
       "    proteines  cholesterol  magnesium  \n",
       "13       11.1           50         16  \n",
       "15        8.3           10         11  \n",
       "16        7.0           30         10  \n",
       "20        9.4           20         10  \n",
       "28        4.1           13         14  "
      ]
     },
     "execution_count": 18,
     "metadata": {},
     "output_type": "execute_result"
    }
   ],
   "source": [
    "new_data = df[labels == 0]\n",
    "new_data"
   ]
  },
  {
   "cell_type": "code",
   "execution_count": 19,
   "id": "0867469e",
   "metadata": {},
   "outputs": [
    {
     "name": "stdout",
     "output_type": "stream",
     "text": [
      "Cluster 1:\n",
      "              Fromages  calories  sodium  calcium  lipides  retinol  folates  \\\n",
      "13  Fr,chevrepatemolle       206   160.0     72.8     18.5    150.5     31.0   \n",
      "15      Fr,frais20nat,        80    41.0    146.3      3.5     50.0     20.0   \n",
      "16      Fr,frais40nat,       115    25.0     94.8      7.8     64.3     22.6   \n",
      "20       Petitsuisse40       142    22.0     78.2     10.4     63.4     20.4   \n",
      "28  Yaourtlaitent,nat,        70    91.0    215.7      3.4     42.9      2.9   \n",
      "\n",
      "    proteines  cholesterol  magnesium  \n",
      "13       11.1           50         16  \n",
      "15        8.3           10         11  \n",
      "16        7.0           30         10  \n",
      "20        9.4           20         10  \n",
      "28        4.1           13         14  \n",
      "Cluster 2:\n",
      "       Fromages  calories  sodium  calcium  lipides  retinol  folates  \\\n",
      "0   CarredelEst       314   353.5     72.6     26.3     51.6     30.3   \n",
      "1       Babybel       314   238.0    209.8     25.1     63.7      6.4   \n",
      "3          Bleu       342   336.0    211.1     28.9     37.1     27.5   \n",
      "4     Camembert       264   314.0    215.9     19.5    103.0     36.4   \n",
      "6     Chabichou       344   192.0     87.2     27.9     90.1     36.3   \n",
      "7      Chaource       292   276.0    132.9     25.4    116.4     32.5   \n",
      "10  Coulomniers       308   222.0     79.2     25.6     63.6     21.1   \n",
      "14  Fr,fondu,45       292   390.0    168.5     24.0     77.4      5.5   \n",
      "17    Maroilles       338   311.0    236.7     29.1     46.7      3.6   \n",
      "18      Morbier       347   285.0    219.0     29.5     57.6      5.8   \n",
      "21  PontlEveque       300   223.0    156.7     23.4     53.0      4.0   \n",
      "22     Pyrenees       355   232.0    178.9     28.0     51.5      6.8   \n",
      "23    Reblochon       309   272.0    202.3     24.6     73.1      8.1   \n",
      "24   Rocquefort       370   432.0    162.0     31.2     83.5     13.3   \n",
      "26         Tome       321   252.0    125.5     27.3     62.3      6.2   \n",
      "\n",
      "    proteines  cholesterol  magnesium  \n",
      "0        21.0           70         20  \n",
      "1        22.6           70         27  \n",
      "3        20.2           90         27  \n",
      "4        23.4           60         20  \n",
      "6        19.5           80         36  \n",
      "7        17.8           70         25  \n",
      "10       20.5           80         13  \n",
      "14       16.8           70         20  \n",
      "17       20.4           90         40  \n",
      "18       23.6           80         30  \n",
      "21       21.1           70         22  \n",
      "22       22.4           90         25  \n",
      "23       19.7           80         30  \n",
      "24       18.7          100         25  \n",
      "26       21.8           80         20  \n",
      "Cluster 3:\n",
      "       Fromages  calories  sodium  calcium  lipides  retinol  folates  \\\n",
      "2      Beaufort       401   112.0    259.4     33.3     54.9      1.2   \n",
      "5        Cantal       367   256.0    264.0     28.8     48.8      5.7   \n",
      "8       Cheddar       406   172.0    182.3     32.5     76.4      4.9   \n",
      "9         Comte       399    92.0    220.5     32.4     55.9      1.3   \n",
      "11         Edam       327   148.0    272.2     24.7     65.7      5.5   \n",
      "12     Emmental       378    60.0    308.2     29.4     56.3      2.4   \n",
      "19     Parmesan       381   240.0    334.6     27.5     90.0      5.2   \n",
      "25  SaintPaulin       298   205.0    261.0     23.3     60.4      6.7   \n",
      "27     Vacherin       321   140.0    218.0     29.3     49.2      3.7   \n",
      "\n",
      "    proteines  cholesterol  magnesium  \n",
      "2        26.6          120         41  \n",
      "5        23.0           90         30  \n",
      "8        26.0          110         28  \n",
      "9        29.2          120         51  \n",
      "11       24.7           80         44  \n",
      "12       29.4          110         45  \n",
      "19       35.7           80         46  \n",
      "25       23.3           70         26  \n",
      "27       17.6           80         30  \n"
     ]
    }
   ],
   "source": [
    "for i in range(kmeans.n_clusters):\n",
    "    print(f\"Cluster {i+1}:\")\n",
    "    cluster_points = df[labels == i]\n",
    "    print(cluster_points)"
   ]
  },
  {
   "cell_type": "code",
   "execution_count": 20,
   "id": "5f357fb2",
   "metadata": {},
   "outputs": [
    {
     "data": {
      "image/png": "[encoded data removed]",
      "text/plain": [
       "<Figure size 432x288 with 1 Axes>"
      ]
     },
     "metadata": {
      "needs_background": "light"
     },
     "output_type": "display_data"
    }
   ],
   "source": [
    "wcss = []\n",
    "for i in range(1, 11):\n",
    "    kmeans_1 = KMeans(n_clusters=i, init='k-means++', max_iter=300, n_init=10, random_state=0)\n",
    "    kmeans_1.fit(X)\n",
    "    wcss.append(kmeans_1.inertia_)\n",
    "\n",
    "# plot the elbow curve\n",
    "plt.plot(range(1, 11), wcss)\n",
    "plt.title('Elbow Method')\n",
    "plt.xlabel('Number of Clusters')\n",
    "plt.xticks(range(1,11))\n",
    "plt.ylabel('Within-Cluster Sum of Squares')\n",
    "plt.show()"
   ]
  },
  {
   "cell_type": "code",
   "execution_count": 21,
   "id": "24191d9d",
   "metadata": {},
   "outputs": [
    {
     "name": "stdout",
     "output_type": "stream",
     "text": [
      "Score :  0.37299770707104013\n"
     ]
    }
   ],
   "source": [
    "from sklearn.metrics import silhouette_score\n",
    "score = silhouette_score(X, kmeans.labels_ , metric='euclidean')\n",
    "print(\"Score : \",score)"
   ]
  },
  {
   "cell_type": "code",
   "execution_count": null,
   "id": "14be73e3",
   "metadata": {},
   "outputs": [],
   "source": []
  },
  {
   "cell_type": "code",
   "execution_count": 22,
   "id": "e4897231",
   "metadata": {},
   "outputs": [
    {
     "data": {
      "text/html": [
       "<div>\n",
       "<style scoped>\n",
       "    .dataframe tbody tr th:only-of-type {\n",
       "        vertical-align: middle;\n",
       "    }\n",
       "\n",
       "    .dataframe tbody tr th {\n",
       "        vertical-align: top;\n",
       "    }\n",
       "\n",
       "    .dataframe thead th {\n",
       "        text-align: right;\n",
       "    }\n",
       "</style>\n",
       "<table border=\"1\" class=\"dataframe\">\n",
       "  <thead>\n",
       "    <tr style=\"text-align: right;\">\n",
       "      <th></th>\n",
       "      <th>calories</th>\n",
       "      <th>sodium</th>\n",
       "      <th>calcium</th>\n",
       "      <th>lipides</th>\n",
       "      <th>retinol</th>\n",
       "      <th>folates</th>\n",
       "      <th>proteines</th>\n",
       "      <th>cholesterol</th>\n",
       "      <th>magnesium</th>\n",
       "    </tr>\n",
       "  </thead>\n",
       "  <tbody>\n",
       "    <tr>\n",
       "      <th>0</th>\n",
       "      <td>314</td>\n",
       "      <td>353.5</td>\n",
       "      <td>72.6</td>\n",
       "      <td>26.3</td>\n",
       "      <td>51.6</td>\n",
       "      <td>30.3</td>\n",
       "      <td>21.0</td>\n",
       "      <td>70</td>\n",
       "      <td>20</td>\n",
       "    </tr>\n",
       "    <tr>\n",
       "      <th>1</th>\n",
       "      <td>314</td>\n",
       "      <td>238.0</td>\n",
       "      <td>209.8</td>\n",
       "      <td>25.1</td>\n",
       "      <td>63.7</td>\n",
       "      <td>6.4</td>\n",
       "      <td>22.6</td>\n",
       "      <td>70</td>\n",
       "      <td>27</td>\n",
       "    </tr>\n",
       "    <tr>\n",
       "      <th>2</th>\n",
       "      <td>401</td>\n",
       "      <td>112.0</td>\n",
       "      <td>259.4</td>\n",
       "      <td>33.3</td>\n",
       "      <td>54.9</td>\n",
       "      <td>1.2</td>\n",
       "      <td>26.6</td>\n",
       "      <td>120</td>\n",
       "      <td>41</td>\n",
       "    </tr>\n",
       "    <tr>\n",
       "      <th>3</th>\n",
       "      <td>342</td>\n",
       "      <td>336.0</td>\n",
       "      <td>211.1</td>\n",
       "      <td>28.9</td>\n",
       "      <td>37.1</td>\n",
       "      <td>27.5</td>\n",
       "      <td>20.2</td>\n",
       "      <td>90</td>\n",
       "      <td>27</td>\n",
       "    </tr>\n",
       "    <tr>\n",
       "      <th>4</th>\n",
       "      <td>264</td>\n",
       "      <td>314.0</td>\n",
       "      <td>215.9</td>\n",
       "      <td>19.5</td>\n",
       "      <td>103.0</td>\n",
       "      <td>36.4</td>\n",
       "      <td>23.4</td>\n",
       "      <td>60</td>\n",
       "      <td>20</td>\n",
       "    </tr>\n",
       "  </tbody>\n",
       "</table>\n",
       "</div>"
      ],
      "text/plain": [
       "   calories  sodium  calcium  lipides  retinol  folates  proteines  \\\n",
       "0       314   353.5     72.6     26.3     51.6     30.3       21.0   \n",
       "1       314   238.0    209.8     25.1     63.7      6.4       22.6   \n",
       "2       401   112.0    259.4     33.3     54.9      1.2       26.6   \n",
       "3       342   336.0    211.1     28.9     37.1     27.5       20.2   \n",
       "4       264   314.0    215.9     19.5    103.0     36.4       23.4   \n",
       "\n",
       "   cholesterol  magnesium  \n",
       "0           70         20  \n",
       "1           70         27  \n",
       "2          120         41  \n",
       "3           90         27  \n",
       "4           60         20  "
      ]
     },
     "execution_count": 22,
     "metadata": {},
     "output_type": "execute_result"
    }
   ],
   "source": [
    "X.head()"
   ]
  },
  {
   "cell_type": "code",
   "execution_count": 23,
   "id": "3a115562",
   "metadata": {},
   "outputs": [
    {
     "data": {
      "image/png": "[encoded data removed]",
      "text/plain": [
       "<Figure size 864x432 with 1 Axes>"
      ]
     },
     "metadata": {
      "needs_background": "light"
     },
     "output_type": "display_data"
    }
   ],
   "source": [
    "# plot data points with different colors for each cluster\n",
    "plt.figure(figsize=(12,6))\n",
    "plt.scatter(X.iloc[:, 0], X.iloc[:, 1], c=labels)\n",
    "\n",
    "# plot centroids\n",
    "centroids = kmeans.cluster_centers_\n",
    "plt.scatter(centroids[:, 0], centroids[:, 1], marker='x', s=150, linewidths=2, color='r')\n",
    "plt.xlabel('calories')\n",
    "plt.ylabel('sodium')\n",
    "\n",
    "# show plot\n",
    "plt.show()"
   ]
  },
  {
   "cell_type": "code",
   "execution_count": 24,
   "id": "5e7bf9bc",
   "metadata": {},
   "outputs": [
    {
     "data": {
      "text/plain": [
       "array([1, 1, 2, 1, 1, 2, 1, 1, 2, 2, 1, 2, 2, 0, 1, 0, 0, 1, 1, 2, 0, 1,\n",
       "       1, 1, 1, 2, 1, 2, 0])"
      ]
     },
     "execution_count": 24,
     "metadata": {},
     "output_type": "execute_result"
    }
   ],
   "source": [
    "labels"
   ]
  },
  {
   "cell_type": "code",
   "execution_count": 25,
   "id": "05ca1fc2",
   "metadata": {},
   "outputs": [
    {
     "name": "stdout",
     "output_type": "stream",
     "text": [
      "[1]\n"
     ]
    }
   ],
   "source": [
    "new_input = X.iloc[4]\n",
    "label = kmeans.predict([new_input])\n",
    "print(label)"
   ]
  },
  {
   "cell_type": "code",
   "execution_count": 26,
   "id": "bae2b8f6",
   "metadata": {},
   "outputs": [
    {
     "data": {
      "text/plain": [
       "['kmeans_model.joblib']"
      ]
     },
     "execution_count": 26,
     "metadata": {},
     "output_type": "execute_result"
    }
   ],
   "source": [
    "# exporting the Kmeans Model\n",
    "import joblib\n",
    "joblib.dump(kmeans, 'kmeans_model.joblib')"
   ]
  },
  {
   "cell_type": "markdown",
   "id": "d936bf13",
   "metadata": {},
   "source": [
    "## CAH"
   ]
  },
  {
   "cell_type": "code",
   "execution_count": 27,
   "id": "c0675efc",
   "metadata": {},
   "outputs": [],
   "source": [
    "from scipy.cluster.hierarchy import dendrogram, linkage, cut_tree\n"
   ]
  },
  {
   "cell_type": "code",
   "execution_count": 28,
   "id": "84af0804",
   "metadata": {},
   "outputs": [],
   "source": [
    "Z = linkage(X, method='ward')"
   ]
  },
  {
   "cell_type": "code",
   "execution_count": 29,
   "id": "c1fe7bf4",
   "metadata": {},
   "outputs": [
    {
     "data": {
      "image/png": "[encoded data removed]",
      "text/plain": [
       "<Figure size 864x504 with 1 Axes>"
      ]
     },
     "metadata": {
      "needs_background": "light"
     },
     "output_type": "display_data"
    }
   ],
   "source": [
    "plt.figure(figsize=(12,7))\n",
    "dendrogram(Z)\n",
    "plt.show()"
   ]
  },
  {
   "cell_type": "code",
   "execution_count": 30,
   "id": "166fb059",
   "metadata": {},
   "outputs": [
    {
     "data": {
      "text/plain": [
       "array([[0],\n",
       "       [1],\n",
       "       [2],\n",
       "       [0],\n",
       "       [0],\n",
       "       [2],\n",
       "       [1],\n",
       "       [1],\n",
       "       [2],\n",
       "       [2],\n",
       "       [1],\n",
       "       [2],\n",
       "       [2],\n",
       "       [1],\n",
       "       [0],\n",
       "       [3],\n",
       "       [3],\n",
       "       [0],\n",
       "       [0],\n",
       "       [2],\n",
       "       [3],\n",
       "       [1],\n",
       "       [1],\n",
       "       [1],\n",
       "       [0],\n",
       "       [2],\n",
       "       [1],\n",
       "       [2],\n",
       "       [3]])"
      ]
     },
     "execution_count": 30,
     "metadata": {},
     "output_type": "execute_result"
    }
   ],
   "source": [
    "clusters = cut_tree(Z, height=300)\n",
    "clusters"
   ]
  },
  {
   "cell_type": "markdown",
   "id": "dfafe098",
   "metadata": {},
   "source": [
    "##### On distingue 4 clusters quand on fait le cut a 300 height"
   ]
  },
  {
   "cell_type": "code",
   "execution_count": 31,
   "id": "9acd684b",
   "metadata": {},
   "outputs": [
    {
     "data": {
      "image/png": "[encoded data removed]",
      "text/plain": [
       "<Figure size 432x288 with 1 Axes>"
      ]
     },
     "metadata": {
      "needs_background": "light"
     },
     "output_type": "display_data"
    }
   ],
   "source": [
    "plt.scatter(X.iloc[:, 0], X.iloc[:, 1], c=clusters.flatten())\n",
    "plt.show()"
   ]
  },
  {
   "cell_type": "code",
   "execution_count": 34,
   "id": "79c06b78",
   "metadata": {},
   "outputs": [
    {
     "data": {
      "text/plain": [
       "array([17, 20,  4, 13, 14,  6, 18, 23, 11,  4, 19,  8,  5, 24, 15,  2,  1,\n",
       "       12, 12,  7,  1, 22, 21, 20, 16, 10, 22,  9,  3], dtype=int32)"
      ]
     },
     "execution_count": 34,
     "metadata": {},
     "output_type": "execute_result"
    }
   ],
   "source": [
    "from scipy.cluster.hierarchy import fcluster\n",
    "max_distance = 50\n",
    "clusters = fcluster(Z, max_distance, criterion='distance')\n",
    "\n",
    "clusters"
   ]
  },
  {
   "cell_type": "code",
   "execution_count": null,
   "id": "ab556fa4",
   "metadata": {},
   "outputs": [],
   "source": []
  },
  {
   "cell_type": "code",
   "execution_count": null,
   "id": "7642f13b",
   "metadata": {},
   "outputs": [],
   "source": []
  },
  {
   "cell_type": "code",
   "execution_count": 35,
   "id": "908f092b",
   "metadata": {},
   "outputs": [
    {
     "name": "stdout",
     "output_type": "stream",
     "text": [
      "Cluster 1:\n",
      "              Fromages  calories  sodium  calcium  lipides  retinol  folates  \\\n",
      "13  Fr,chevrepatemolle       206   160.0     72.8     18.5    150.5     31.0   \n",
      "15      Fr,frais20nat,        80    41.0    146.3      3.5     50.0     20.0   \n",
      "16      Fr,frais40nat,       115    25.0     94.8      7.8     64.3     22.6   \n",
      "20       Petitsuisse40       142    22.0     78.2     10.4     63.4     20.4   \n",
      "28  Yaourtlaitent,nat,        70    91.0    215.7      3.4     42.9      2.9   \n",
      "\n",
      "    proteines  cholesterol  magnesium  \n",
      "13       11.1           50         16  \n",
      "15        8.3           10         11  \n",
      "16        7.0           30         10  \n",
      "20        9.4           20         10  \n",
      "28        4.1           13         14  \n",
      "Cluster 2:\n",
      "       Fromages  calories  sodium  calcium  lipides  retinol  folates  \\\n",
      "0   CarredelEst       314   353.5     72.6     26.3     51.6     30.3   \n",
      "1       Babybel       314   238.0    209.8     25.1     63.7      6.4   \n",
      "3          Bleu       342   336.0    211.1     28.9     37.1     27.5   \n",
      "4     Camembert       264   314.0    215.9     19.5    103.0     36.4   \n",
      "6     Chabichou       344   192.0     87.2     27.9     90.1     36.3   \n",
      "7      Chaource       292   276.0    132.9     25.4    116.4     32.5   \n",
      "10  Coulomniers       308   222.0     79.2     25.6     63.6     21.1   \n",
      "14  Fr,fondu,45       292   390.0    168.5     24.0     77.4      5.5   \n",
      "17    Maroilles       338   311.0    236.7     29.1     46.7      3.6   \n",
      "18      Morbier       347   285.0    219.0     29.5     57.6      5.8   \n",
      "21  PontlEveque       300   223.0    156.7     23.4     53.0      4.0   \n",
      "22     Pyrenees       355   232.0    178.9     28.0     51.5      6.8   \n",
      "23    Reblochon       309   272.0    202.3     24.6     73.1      8.1   \n",
      "24   Rocquefort       370   432.0    162.0     31.2     83.5     13.3   \n",
      "26         Tome       321   252.0    125.5     27.3     62.3      6.2   \n",
      "\n",
      "    proteines  cholesterol  magnesium  \n",
      "0        21.0           70         20  \n",
      "1        22.6           70         27  \n",
      "3        20.2           90         27  \n",
      "4        23.4           60         20  \n",
      "6        19.5           80         36  \n",
      "7        17.8           70         25  \n",
      "10       20.5           80         13  \n",
      "14       16.8           70         20  \n",
      "17       20.4           90         40  \n",
      "18       23.6           80         30  \n",
      "21       21.1           70         22  \n",
      "22       22.4           90         25  \n",
      "23       19.7           80         30  \n",
      "24       18.7          100         25  \n",
      "26       21.8           80         20  \n",
      "Cluster 3:\n",
      "       Fromages  calories  sodium  calcium  lipides  retinol  folates  \\\n",
      "2      Beaufort       401   112.0    259.4     33.3     54.9      1.2   \n",
      "5        Cantal       367   256.0    264.0     28.8     48.8      5.7   \n",
      "8       Cheddar       406   172.0    182.3     32.5     76.4      4.9   \n",
      "9         Comte       399    92.0    220.5     32.4     55.9      1.3   \n",
      "11         Edam       327   148.0    272.2     24.7     65.7      5.5   \n",
      "12     Emmental       378    60.0    308.2     29.4     56.3      2.4   \n",
      "19     Parmesan       381   240.0    334.6     27.5     90.0      5.2   \n",
      "25  SaintPaulin       298   205.0    261.0     23.3     60.4      6.7   \n",
      "27     Vacherin       321   140.0    218.0     29.3     49.2      3.7   \n",
      "\n",
      "    proteines  cholesterol  magnesium  \n",
      "2        26.6          120         41  \n",
      "5        23.0           90         30  \n",
      "8        26.0          110         28  \n",
      "9        29.2          120         51  \n",
      "11       24.7           80         44  \n",
      "12       29.4          110         45  \n",
      "19       35.7           80         46  \n",
      "25       23.3           70         26  \n",
      "27       17.6           80         30  \n"
     ]
    }
   ],
   "source": [
    "for i in range(kmeans.n_clusters):\n",
    "    print(f\"Cluster {i+1}:\")\n",
    "    cluster_points = df[labels == i]\n",
    "    print(cluster_points)"
   ]
  },
  {
   "cell_type": "code",
   "execution_count": 40,
   "id": "b0fba325",
   "metadata": {},
   "outputs": [],
   "source": [
    "df1 = df[labels == 0]\n",
    "df2 = df[labels == 1]\n",
    "df3 = df[labels == 2]"
   ]
  },
  {
   "cell_type": "code",
   "execution_count": 54,
   "id": "927d919c",
   "metadata": {},
   "outputs": [
    {
     "data": {
      "image/png": "[encoded data removed]",
      "text/plain": [
       "<Figure size 432x288 with 1 Axes>"
      ]
     },
     "metadata": {
      "needs_background": "light"
     },
     "output_type": "display_data"
    },
    {
     "data": {
      "image/png": "[encoded data removed]",
      "text/plain": [
       "<Figure size 432x288 with 1 Axes>"
      ]
     },
     "metadata": {
      "needs_background": "light"
     },
     "output_type": "display_data"
    },
    {
     "data": {
      "image/png": "[encoded data removed]",
      "text/plain": [
       "<Figure size 432x288 with 1 Axes>"
      ]
     },
     "metadata": {
      "needs_background": "light"
     },
     "output_type": "display_data"
    }
   ],
   "source": [
    "plt.scatter(df1['calories'], df1['lipides'],color='green')\n",
    "plt.scatter(df2['calories'], df2['lipides'], color='red')\n",
    "plt.scatter(df3['calories'], df3['lipides'], color='blue')\n",
    "plt.xlabel('calories')\n",
    "plt.ylabel('lipides')\n",
    "plt.show()\n",
    "plt.scatter(df1['calories'], df1['calcium'],color='green')\n",
    "plt.scatter(df2['calories'], df2['calcium'], color='red')\n",
    "plt.scatter(df3['calories'], df3['calcium'], color='blue')\n",
    "plt.xlabel('calories')\n",
    "plt.ylabel('calcium')\n",
    "plt.show()\n",
    "plt.scatter(df1['calories'], df1['magnesium'],color='green')\n",
    "plt.scatter(df2['calories'], df2['magnesium'], color='red')\n",
    "plt.scatter(df3['calories'], df3['magnesium'], color='blue')\n",
    "plt.xlabel('calories')\n",
    "plt.ylabel('magnesium')\n",
    "plt.show()"
   ]
  },
  {
   "cell_type": "code",
   "execution_count": null,
   "id": "b087d6e0",
   "metadata": {},
   "outputs": [],
   "source": []
  },
  {
   "cell_type": "code",
   "execution_count": null,
   "id": "492745a9",
   "metadata": {},
   "outputs": [],
   "source": []
  }
 ],
 "metadata": {
  "kernelspec": {
   "display_name": "Python 3 (ipykernel)",
   "language": "python",
   "name": "python3"
  },
  "language_info": {
   "codemirror_mode": {
    "name": "ipython",
    "version": 3
   },
   "file_extension": ".py",
   "mimetype": "text/x-python",
   "name": "python",
   "nbconvert_exporter": "python",
   "pygments_lexer": "ipython3",
   "version": "3.10.0"
  }
 },
 "nbformat": 4,
 "nbformat_minor": 5
}
